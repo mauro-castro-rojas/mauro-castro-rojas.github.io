{
 "cells": [
  {
   "cell_type": "code",
   "execution_count": null,
   "metadata": {},
   "outputs": [],
   "source": []
  },
  {
   "cell_type": "markdown",
   "metadata": {},
   "source": [
    "## <span style=\"color:DodgerBlue\">Derivatives of polynomials and Exponential Functions</span>\n",
    "\n",
    "### <span style=\"color:Tomato\">Constant functions</span>\n",
    "\n",
    "$$ \\frac{d}{dx} (c) = 0$$"
   ]
  }
 ],
 "metadata": {
  "language_info": {
   "name": "python"
  }
 },
 "nbformat": 4,
 "nbformat_minor": 2
}

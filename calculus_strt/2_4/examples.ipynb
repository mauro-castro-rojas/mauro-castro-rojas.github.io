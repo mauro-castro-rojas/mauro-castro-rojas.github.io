{
 "cells": [
  {
   "cell_type": "markdown",
   "metadata": {},
   "source": [
    "This is a multiline formula: \n",
    "$$\n",
    "\\alpha=\\begin{cases}\n",
    "1, & \\beta \\ge 0 \\\\\n",
    "2, & \\beta < 0\n",
    "\\end{cases}\n",
    "$$"
   ]
  },
  {
   "cell_type": "code",
   "execution_count": 16,
   "metadata": {},
   "outputs": [
    {
     "data": {
      "image/png": "[encoded data removed]",
      "text/latex": [
       "$\\displaystyle 2 x - 1$"
      ],
      "text/plain": [
       "2⋅x - 1"
      ]
     },
     "metadata": {},
     "output_type": "display_data"
    },
    {
     "data": {
      "image/png": "[encoded data removed]",
      "text/latex": [
       "$\\displaystyle \\left|{2 x - 1}\\right| < 1$"
      ],
      "text/plain": [
       "│2⋅x - 1│ < 1"
      ]
     },
     "metadata": {},
     "output_type": "display_data"
    }
   ],
   "source": [
    "from sympy.interactive import printing\n",
    "printing.init_printing(use_latex=True)\n",
    "\n",
    "import numpy as np\n",
    "import sympy as sp\n",
    "import matplotlib.pyplot as plt\n",
    "\n",
    "x = sp.Symbol('x')\n",
    "sympy_func_ex1 = 2*x - 1\n",
    "display(sympy_func_ex1)\n",
    "\n",
    "absolute_value = sp.Abs(sympy_func_ex1)\n",
    "display(absolute_value < 1)\n"
   ]
  },
  {
   "cell_type": "code",
   "execution_count": 15,
   "metadata": {},
   "outputs": [
    {
     "name": "stdout",
     "output_type": "stream",
     "text": [
      "Solutions: [-2.54783485425129 + 0.e-23*I, 0.911421680120635 + 0.e-20*I, 1.63641317413066 + 0.e-20*I]\n"
     ]
    }
   ],
   "source": [
    "# Define the equation\n",
    "equation = x**3 - 5*x + 3.8\n",
    "\n",
    "# Solve the equation\n",
    "solutions = sp.solve(equation, x)\n",
    "\n",
    "# Display the solutions\n",
    "print(\"Solutions:\", solutions)"
   ]
  },
  {
   "cell_type": "code",
   "execution_count": 31,
   "metadata": {},
   "outputs": [
    {
     "data": {
      "image/png": "[encoded data removed]",
      "text/plain": [
       "<Figure size 400x200 with 1 Axes>"
      ]
     },
     "metadata": {},
     "output_type": "display_data"
    }
   ],
   "source": [
    "\n",
    "sympy_func_ex2 = x**3 - 5*x + 6\n",
    "x_vals = np.linspace(-2.6, 2.6, 200)\n",
    "\n",
    "func_np = sp.lambdify(x, sympy_func_ex2, 'numpy')\n",
    "y_vals = func_np(x_vals)\n",
    "\n",
    "\n",
    "fig, ax = plt.subplots(figsize=(4, 2),layout='constrained')\n",
    "ax.plot(x_vals, y_vals, label=r\"$f(x)=x^3 - 5*x + 6$\")\n",
    "plt.show()"
   ]
  },
  {
   "cell_type": "code",
   "execution_count": null,
   "metadata": {},
   "outputs": [],
   "source": [
    "\n",
    "print(\"HI\")"
   ]
  },
  {
   "cell_type": "markdown",
   "metadata": {},
   "source": []
  }
 ],
 "metadata": {
  "kernelspec": {
   "display_name": "Python 3",
   "language": "python",
   "name": "python3"
  },
  "language_info": {
   "codemirror_mode": {
    "name": "ipython",
    "version": 3
   },
   "file_extension": ".py",
   "mimetype": "text/x-python",
   "name": "python",
   "nbconvert_exporter": "python",
   "pygments_lexer": "ipython3",
   "version": "3.9.6"
  }
 },
 "nbformat": 4,
 "nbformat_minor": 2
}

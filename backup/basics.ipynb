{
 "cells": [
  {
   "cell_type": "code",
   "execution_count": null,
   "metadata": {},
   "outputs": [],
   "source": [
    "#Headings"
   ]
  },
  {
   "cell_type": "markdown",
   "metadata": {},
   "source": [
    "# H1\n",
    "## H2\n",
    "#### H4\n",
    "\n",
    "Heading\n",
    "=======\n",
    "\n"
   ]
  },
  {
   "cell_type": "code",
   "execution_count": null,
   "metadata": {},
   "outputs": [],
   "source": [
    "#Emphasis"
   ]
  },
  {
   "cell_type": "markdown",
   "metadata": {},
   "source": [
    "**Bold**\n",
    "\n",
    "*Italic*\n",
    "\n",
    "~~Scratched~~\n",
    "\n",
    "<u>Underline</u>"
   ]
  },
  {
   "cell_type": "code",
   "execution_count": null,
   "metadata": {},
   "outputs": [],
   "source": [
    "#Lists"
   ]
  },
  {
   "cell_type": "markdown",
   "metadata": {},
   "source": [
    "- Unordered List\n",
    " - pasta\n",
    " - coca cola\n",
    " - bolognesa\n",
    " - meatballs\n",
    "\n",
    "1. Ordered List\n",
    "    1. Rails\n",
    "    2. Python\n",
    "    3. Next JS\n",
    "    4. Flask\n",
    "    5. Django\n",
    "2. Pokemons\n",
    "    1. Pikachu\n",
    "    2. Charmander\n",
    "    3. Snorlax\n",
    "    "
   ]
  },
  {
   "cell_type": "code",
   "execution_count": null,
   "metadata": {},
   "outputs": [],
   "source": [
    "# Links and images"
   ]
  },
  {
   "cell_type": "markdown",
   "metadata": {},
   "source": [
    "[Github link](http://www.github.com)\n",
    "\n",
    "![Open AI](PNG-openai-microsoft_960x540.png)\n",
    "\n",
    "# H3 Horizontal Line\n",
    "---\n",
    "<img src=\"PNG-openai-microsoft_960x540.png\" alt=\"drawing\" width=\"200\"/>"
   ]
  },
  {
   "cell_type": "code",
   "execution_count": null,
   "metadata": {},
   "outputs": [],
   "source": [
    "# Tables"
   ]
  },
  {
   "cell_type": "markdown",
   "metadata": {},
   "source": [
    "| This is a table | Col2 (centered)    | Col3 R-aligned  |Col4 L-aligned  |\n",
    "|-----------------|:------------------:|----------------:|:---------------|\n",
    "| Aligment none   | Text 2             | Text3           |Text4           |"
   ]
  },
  {
   "cell_type": "code",
   "execution_count": null,
   "metadata": {},
   "outputs": [],
   "source": [
    "#HTML"
   ]
  },
  {
   "cell_type": "markdown",
   "metadata": {},
   "source": [
    "<b>You can </b> <i>render</i> almost any <span style=\"color:red;\">HTML</span> code you <u>Like</u>"
   ]
  },
  {
   "cell_type": "code",
   "execution_count": null,
   "metadata": {},
   "outputs": [],
   "source": [
    "#Document Code for syntax explanation"
   ]
  },
  {
   "cell_type": "markdown",
   "metadata": {},
   "source": [
    "Python Code:\n",
    "```python\n",
    "x=5\n",
    "print \"%.2f\" % x \n",
    "```\n",
    "\n",
    "Javascript code\n",
    "```javascript\n",
    "x = 5\n",
    "alert(x)\n",
    "```"
   ]
  },
  {
   "cell_type": "code",
   "execution_count": null,
   "metadata": {},
   "outputs": [],
   "source": [
    "#Latex Basics"
   ]
  },
  {
   "cell_type": "markdown",
   "metadata": {},
   "source": [
    "### <span style=\"color:DodgerBlue;\">Inline : </span>\n",
    "Single dolar signs\n",
    "$x + y$\n",
    "\n",
    "### <span style=\"color:DodgerBlue;\">Block : </span>\n",
    "Double dolar sign\n",
    "$$x · y = 0$$\n",
    "$$ \\frac{x}{y} $$\n",
    "\n",
    "### <span style=\"color:DodgerBlue;\">Relations </span>\n",
    "$$ \\pi \\approx 3.141597 $$\n",
    "$${1 \\over 0} \\neq \\infty$$\n",
    "$$ 0 \\leq x \\geq 1$$\n",
    "\n",
    "### <span style=\"color:DodgerBlue;\">Fractions</span>\n",
    "\n",
    "$$^1/_2$$\n",
    "$${3 \\over 4}$$\n",
    "$$\\frac{x}{z}$$"
   ]
  },
  {
   "cell_type": "code",
   "execution_count": null,
   "metadata": {},
   "outputs": [],
   "source": []
  }
 ],
 "metadata": {
  "language_info": {
   "name": "python"
  }
 },
 "nbformat": 4,
 "nbformat_minor": 2
}

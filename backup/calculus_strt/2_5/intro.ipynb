{
 "cells": [
  {
   "cell_type": "markdown",
   "metadata": {},
   "source": [
    "## <span style=\"color:DodgerBlue\">Continuity</span>\n",
    "\n",
    "A function $f$ is <span style=\"color:Tomato\">*continuous*</span> at a number $a$ if\n",
    "\n",
    "$$  \\lim_{x \\to a} f(x) = f(a) $$\n",
    "\n",
    "This implicitly requires that:\n",
    "\n",
    "1. $a$ is in the domain of $f$ ( that means that $f(a)$ is defined)\n",
    "2. The limit exists\n",
    "\n",
    "A continuous function $f$ has the property that a small change in $x$ produces only a small change in $f(x)$\n",
    "\n",
    "On the other hand, a discontinuity is a point where the values of a function (the output of the function) change significantly in response to a small change in the values of its arguments (the input values). Consequently, even a small alteration in the input leads to a notable shift in the output. As a result, discontinuities often manifest as abrupt changes or jumps in the behavior of a function.\n",
    "\n",
    "If $f$ is defined near $a$ (that is, f is defined on an open interval containing $a$ except possibly at $a$) $f$ is <span style=\"color:Tomato\">*discontinuous at a*</span> if $f$ is not continuous at $a$\n",
    "\n",
    "\n",
    " "
   ]
  },
  {
   "cell_type": "markdown",
   "metadata": {},
   "source": []
  },
  {
   "cell_type": "code",
   "execution_count": null,
   "metadata": {},
   "outputs": [],
   "source": []
  }
 ],
 "metadata": {
  "language_info": {
   "name": "python"
  }
 },
 "nbformat": 4,
 "nbformat_minor": 2
}
